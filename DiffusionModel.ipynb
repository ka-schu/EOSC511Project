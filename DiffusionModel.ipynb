{
 "cells": [
  {
   "cell_type": "code",
   "execution_count": 1,
   "id": "00cd79e0",
   "metadata": {},
   "outputs": [],
   "source": [
    "%matplotlib inline\n",
    "import numpy as np\n",
    "import matplotlib.pyplot as plt\n",
    "from glacier import glacier\n",
    "import cmocean\n",
    "\n",
    "cmap=cmocean.cm.haline"
   ]
  },
  {
   "cell_type": "code",
   "execution_count": 2,
   "metadata": {},
   "outputs": [],
   "source": [
    "ngridx=50\n",
    "ngridz=20\n",
    "D=200\n",
    "L=2e4\n",
    "dt= 2e2\n",
    "T= 1e6\n",
    "zz=20\n",
    "C,S=glacier(ngridx,ngridz,dt,zz,T)"
   ]
  },
  {
   "cell_type": "code",
   "execution_count": 3,
   "id": "154f5b92",
   "metadata": {},
   "outputs": [
    {
     "data": {
      "text/plain": [
       "<matplotlib.colorbar.Colorbar at 0x114d3c160>"
      ]
     },
     "execution_count": 3,
     "metadata": {},
     "output_type": "execute_result"
    },
    {
     "data": {
      "image/png": "[encoded data removed]",
      "text/plain": [
       "<Figure size 432x288 with 2 Axes>"
      ]
     },
     "metadata": {
      "needs_background": "light"
     },
     "output_type": "display_data"
    }
   ],
   "source": [
    "z = np.linspace(0,D,ngridz)\n",
    "x = np.linspace(0,L,ngridx)\n",
    "X,Z=np.meshgrid(x,z)\n",
    "plt.contourf(X,-Z,C[-1,:,:].T,cmap=cmap)\n",
    "plt.colorbar()"
   ]
  }
 ],
 "metadata": {
  "kernelspec": {
   "display_name": "Python 3 (ipykernel)",
   "language": "python",
   "name": "python3"
  },
  "language_info": {
   "codemirror_mode": {
    "name": "ipython",
    "version": 3
   },
   "file_extension": ".py",
   "mimetype": "text/x-python",
   "name": "python",
   "nbconvert_exporter": "python",
   "pygments_lexer": "ipython3",
   "version": "3.9.7"
  }
 },
 "nbformat": 4,
 "nbformat_minor": 5
}
