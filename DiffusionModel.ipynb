{
 "cells": [
  {
   "cell_type": "code",
   "execution_count": 28,
   "id": "00cd79e0",
   "metadata": {},
   "outputs": [],
   "source": [
    "import numpy as np\n",
    "import matplotlib.pyplot as plt\n",
    "from glacier import glacier\n",
    "import cmocean\n",
    "\n",
    "cmap=cmocean.cm.haline"
   ]
  },
  {
   "cell_type": "code",
   "execution_count": 29,
   "metadata": {},
   "outputs": [],
   "source": [
    "ngridx=20\n",
    "ngridz=20\n",
    "D=200\n",
    "L=2e3\n",
    "dt= 10\n",
    "T= 1e3\n",
    "zz=20\n",
    "C,S=glacier(ngridx,ngridz,dt,T,zz)"
   ]
  },
  {
   "cell_type": "code",
   "execution_count": 30,
   "id": "850ffd4d",
   "metadata": {},
   "outputs": [
    {
     "data": {
      "text/plain": [
       "<matplotlib.colorbar.Colorbar at 0x1172a2730>"
      ]
     },
     "execution_count": 30,
     "metadata": {},
     "output_type": "execute_result"
    },
    {
     "data": {
      "image/png": "[encoded data removed]",
      "text/plain": [
       "<Figure size 432x288 with 2 Axes>"
      ]
     },
     "metadata": {
      "needs_background": "light"
     },
     "output_type": "display_data"
    }
   ],
   "source": [
    "z = np.linspace(0,D,ngridz)\n",
    "x = np.linspace(0,L,ngridx)\n",
    "X,Z=np.meshgrid(x,z)\n",
    "plt.contourf(X,-Z,S[-1,:,:].T,cmap=cmap)\n",
    "plt.colorbar()"
   ]
  }
 ],
 "metadata": {
  "kernelspec": {
   "display_name": "Python 3 (ipykernel)",
   "language": "python",
   "name": "python3"
  },
  "language_info": {
   "codemirror_mode": {
    "name": "ipython",
    "version": 3
   },
   "file_extension": ".py",
   "mimetype": "text/x-python",
   "name": "python",
   "nbconvert_exporter": "python",
   "pygments_lexer": "ipython3",
   "version": "3.9.7"
  }
 },
 "nbformat": 4,
 "nbformat_minor": 5
}
